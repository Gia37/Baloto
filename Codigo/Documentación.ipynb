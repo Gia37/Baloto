{
 "cells": [
  {
   "cell_type": "markdown",
   "metadata": {},
   "source": [
    "# Instalación"
   ]
  },
  {
   "cell_type": "markdown",
   "metadata": {},
   "source": [
    "1. Para la correcta ejecución de los archivos de este repositorio debe tener previamente instalados:\n",
    " * **Miniconda**: descargar el instalador correspondiente (python 2 o 3, 32 o 64 bits, windows, linux o mac) de la página [Miniconda](http://conda.pydata.org/miniconda.html), y seguir las [instrucciones](http://conda.pydata.org/docs/install/quick.html) según su sistema operativo. Para el caso de linux:\n",
    "     * `bash Miniconda3-latest-Linux-x86_64.sh`\n",
    " * **Python**: para la instalación de python, usando conda, se puede seguir el siguiente comando en la terminal:\n",
    "     * `conda install python`\n",
    " * **R**: usaremos conda para instalar [R](https://github.com/cosmoscalibur/herramientas_computacionales/blob/master/R_basico.ipynb):\n",
    "     *  `conda install -c r r-essentials`\n",
    " \n",
    "2. Luego procede a la instalación usando _conda_, por medio de la consola, de:  \n",
    "    + **Jupyter**: `conda install jupyter`    \n",
    "    + **BeautifulSoup**: `conda install -c anaconda beautifulsoup4 requests`  \n",
    "    + **Selenium**: `conda install -c conda-forge selenium`  \n",
    "    \n",
    "3. Clonar el repositorio:    \n",
    "    + `git clone https://github.com/Gia37/Baloto.git`"
   ]
  },
  {
   "cell_type": "markdown",
   "metadata": {},
   "source": [
    "# Inicialización"
   ]
  },
  {
   "cell_type": "markdown",
   "metadata": {},
   "source": [
    "Una vez clonado el repositorio desde la terminal, realice los siguientes pasos:\n",
    "\n",
    "1. Ingrese a la carpeta donde clono el proyecto **Baloto** y luego a la carpeta **Codigo** ejecutando los siguientes códigos, respectivamente:\n",
    "\n",
    "    + `cd Baloto`\n",
    "    + `cd Codigo`    \n",
    "\n",
    "2. Ejecute el código **Descarga.py** que genera los archivos **Datos.md,**  **Datos.dat**  y **Frecuencia.dat**:\n",
    "\n",
    "    + `python Descarga.py` \n",
    "    \n",
    "3. Luego se generaran los archivos **Datos.md,** **Datos.dat** y **Frecuencia.dat,** donde el primero muestra de forma presentable las series con sus respectivas fechas y números sorteados, el segundo, solo muestra en 6 columnas los números sorteados para su análisis y el tercero muestra 2 columnas, la primera con el número de la balota (que va desde 1 hasta 45) y la segunda con el número de veces que dicho número ha salido.\n",
    "\n",
    "## Nota: \n",
    "*  **Descarga.py**: Se encarga de realizar la extracción de datos web ingresando a la página [Historico de resultados](http://baloto.com/filtro-historico-de-resultados.php).\n",
    "+ Para la correcta ejecución de **Descarga.py** debe tener Firefox instalado.\n",
    "+ Al ejecutarlo se abrira una ventana en Firefox donde se estaran seleccionando los años desde que se está sorteando el Baloto, es decir desde el 2001 hasta el 2016, y una vez terminado el proceso el usuario debe cerrar la ventana. "
   ]
  },
  {
   "cell_type": "markdown",
   "metadata": {
    "collapsed": false
   },
   "source": [
    "## Nota acerca de Datos.dat\n",
    "\n",
    "En este archivo se muestran en 6 columnas los números sorteados, es decir, en la primera columna se encuentran todos los números de las balotas que han salido de primeras en el historico de sorteos, en la segunda columna los números de las segundas balotas, y así hasta la sexta balota.\n",
    "Se pueden observar 2042 datos, esto es debido a que en dicho archivo se encuentra tanto el Baloto tradicional como el Baloto revancha, siendo así que cada vez que juegue el Baloto y se actualice el archivo de `Consulta.py`se agregan dos sorteos a la lista."
   ]
  },
  {
   "cell_type": "markdown",
   "metadata": {},
   "source": [
    " # Estadística descriptiva básica con R\n",
    " \n",
    "En este avance se calcula, por medio de R, la media, mínimo, máximo y desviación estandar, se seleccionaron los números de todas las balotas de los sorteos que van desde el 2001 hasta el 2016 (año actual), que se encuentran en el archivo `Datos.dat`."
   ]
  },
  {
   "cell_type": "markdown",
   "metadata": {},
   "source": [
    "# Estadística de números\n",
    "\n",
    "Se realiza un gráfica de la frecuencia de las balotas, es decir, cuantas veces en toda la historia del baloto han salido cada balota. Se realizó la gráfica por medio de _gnuplot_ (Estadistica_de_numeros.png)"
   ]
  },
  {
   "cell_type": "markdown",
   "metadata": {},
   "source": [
    "![imagen](Estadistica_de_numeros.png)"
   ]
  },
  {
   "cell_type": "markdown",
   "metadata": {
    "collapsed": false
   },
   "source": [
    "# Consulta"
   ]
  },
  {
   "cell_type": "markdown",
   "metadata": {},
   "source": [
    "Utilizamos el archivo [Consulta.py](https://github.com/Gia37/Baloto/blob/master/Codigo/Consulta.py) sólo para consultas de información básica. Este es un archivo con el cual el usuario puede consultar información acerca de los datos, en este caso, se permiten hacer cuatro tipo de consultas: \n",
    "\n",
    "1. Qué sorteo salió según el número de serie\n",
    "2. Qué sorteos salieron en el año ingresado \n",
    "3. Qué sorteo salió según la fecha\n",
    "4. Cuántas veces ha salido el número del sorteo  \n",
    "\n",
    "Para la ejecución de este archivo se ingresa a la carpeta donde se encuentra _Baloto_ y una vez allí, se abre la carpeta _Codigo_ ingresando en la terminal:\n",
    "\n",
    "* `cd Baloto`  \n",
    "* `cd Codigo`\n",
    "   \n",
    "Y por último ejecutar:  \n",
    "\n",
    "* `python Consulta.py`"
   ]
  },
  {
   "cell_type": "code",
   "execution_count": 2,
   "metadata": {
    "collapsed": false,
    "scrolled": false
   },
   "outputs": [
    {
     "name": "stdout",
     "output_type": "stream",
     "text": [
      "Ingrese 1, 2, 3, o 4 segun el dato que desea consultar\n",
      "1. Sorteo que salio en la serie \n",
      "2. Sorteos que han salido en el a?o \n",
      "3. Sorteos que han salido en la fecha \n",
      "4. Cuantas veces ha salido el numero  \n",
      "1\n",
      "Ingrese el numero de serie 1500\n"
     ]
    },
    {
     "data": {
      "text/markdown": [
       "|Baloto|Revancha|\n",
       "|:---:|:---:|\n",
       "| 22 - 33 - 34 - 42 - 44 - 45 | 05 - 11 - 15 - 32 - 42 - 45 | \n"
      ],
      "text/plain": [
       "<IPython.core.display.Markdown object>"
      ]
     },
     "metadata": {},
     "output_type": "display_data"
    }
   ],
   "source": [
    "#Ejemplo de Consulta\n",
    "import Consulta as C\n",
    "from IPython.display import display, Markdown\n",
    "display(Markdown(C.F_Mark()))"
   ]
  }
 ],
 "metadata": {
  "anaconda-cloud": {},
  "kernelspec": {
   "display_name": "Python [default]",
   "language": "python",
   "name": "python2"
  },
  "language_info": {
   "codemirror_mode": {
    "name": "ipython",
    "version": 2
   },
   "file_extension": ".py",
   "mimetype": "text/x-python",
   "name": "python",
   "nbconvert_exporter": "python",
   "pygments_lexer": "ipython2",
   "version": "2.7.12"
  }
 },
 "nbformat": 4,
 "nbformat_minor": 1
}
