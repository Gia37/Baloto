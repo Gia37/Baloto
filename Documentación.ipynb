{
 "cells": [
  {
   "cell_type": "markdown",
   "metadata": {},
   "source": [
    "# Instalación"
   ]
  },
  {
   "cell_type": "markdown",
   "metadata": {},
   "source": [
    "1. Si desea puede seguir los siguientes pasos de instalación para que el código del proyecto corra con mayor eficacia, seguido de haber instalado \"miniconda\": \n",
    "    + **Instalar miniconda**\n",
    "        + Descargar [Miniconda](http://conda.pydata.org/miniconda.html) dependiendo de su equipo.  \n",
    "        + Abre la consola o terminal, se ubica en la carpeta en la que guardo la descarga y ejecuta:  \n",
    "            + *`bash \"nombre del paquete miniconda.sh\"`*  \n",
    "            \n",
    "            Por ejemplo,si usted descargó Miniconda3-latest-Linux-x86_64.sh entonces ejecuta:  \n",
    "            + *`bash Miniconda3-latest-Linux-x86_64.sh`*  \n",
    "            \n",
    "2. Luego procede a la instalación de:  \n",
    "    + `conda install jupyter`  \n",
    "    + `conda install -c r r-essentials`    \n",
    "    + `conda install -c anaconda beautifulsoup4 requests`  \n",
    "    + `conda install -c conda-forge selenium`  \n",
    "    \n",
    "3. Clonar el repositorio:    \n",
    "    + `git clone https://github.com/Gia37/Baloto.git`"
   ]
  },
  {
   "cell_type": "markdown",
   "metadata": {},
   "source": [
    "# Inicialización"
   ]
  },
  {
   "cell_type": "markdown",
   "metadata": {},
   "source": [
    "Una vez clonado el repositorio desde la consola o terminal, ejecute los siguientes pasos:\n",
    "\n",
    "1. Ingrese al proyecto y luego a la carpeta **Codigo**.\n",
    "    + `cd Baloto`\n",
    "    + `cd Codigo`\n",
    "\n",
    "2. Ejecute el código **Descarga.py** que genera los archivos **Datos.md,**  **Datos.sh**  y **Frecuencia.sh**\n",
    "    + `python Descarga.py`  \n",
    "    \n",
    "3. Luego se generaran los archivos **Datos.md,** **Datos.sh** y **Frecuencia.sh,** donde el primero muestra de forma presentable las series con sus respectivas fechas y números sorteados, el segundo, solo muestra en 6 columnas los números sorteados para su análisis y el tercero muestra 2 columnas la primera con el número y la segunda con el número de veces que dicho número a salido.\n",
    "\n",
    "## Nota:  \n",
    "+ Para la correcta ejecucion de **Descarga.py** debe tener Firefox instalado.\n",
    "+ Al ejecutarlo se abrira una ventana en Firefox donde se estaran seleccionando los años desde que esta  sorteando el Baloto, es decir desde el 2001 hasta el 2016. Una vez terminado el proceso, cerrar la ventana. "
   ]
  },
  {
   "cell_type": "markdown",
   "metadata": {
    "collapsed": false
   },
   "source": [
    "# Consulta"
   ]
  },
  {
   "cell_type": "markdown",
   "metadata": {},
   "source": [
    "Utilizamos el archivo [Consulta.py](https://github.com/Gia37/Baloto/blob/master/Codigo/Consulta.py) sólo para consultas de información básica.  \n",
    "Este es un archivo con el cual el usuario puede consultar información acerca de los datos, en este caso, se permiten hacer cuatro tipo de consultas: \n",
    "1. ¿Qué sorteo salió según el número de serie?\n",
    "2. ¿Qué sorteos salieron en el año ingresado? \n",
    "3. ¿Qué sorteo salió según la fecha?\n",
    "4. ¿Cuánras veces ha salido el número del sorteo?  \n",
    "\n",
    "Para la ejecución de este archivo se ingresa al proyeco y luego a la carpeta Codigo ingresando en la terminal:\n",
    "* cd Baloto  \n",
    "* cd Codigo\n",
    "   \n",
    "Y por último:  \n",
    "* python Consulta.py"
   ]
  }
 ],
 "metadata": {
  "anaconda-cloud": {},
  "kernelspec": {
   "display_name": "Python [default]",
   "language": "python",
   "name": "python2"
  },
  "language_info": {
   "codemirror_mode": {
    "name": "ipython",
    "version": 2
   },
   "file_extension": ".py",
   "mimetype": "text/x-python",
   "name": "python",
   "nbconvert_exporter": "python",
   "pygments_lexer": "ipython2",
   "version": "2.7.12"
  }
 },
 "nbformat": 4,
 "nbformat_minor": 1
}
