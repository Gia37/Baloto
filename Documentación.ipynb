{
 "cells": [
  {
   "cell_type": "markdown",
   "metadata": {},
   "source": [
    "# Instalación"
   ]
  },
  {
   "cell_type": "markdown",
   "metadata": {},
   "source": [
    "1.Si desea puede seguir los siguientes pasos de instalación para que el código del proyecto corra con mayor eficacia, seguido de haber instalado \"miniconda\": \n",
    "\n",
    "* `conda install jupyter`  \n",
    "* `conda install -c r r-essentials`  \n",
    "* `conda install -c anaconda beautifulsoup4 requests`  \n",
    "* `conda install -c conda-forge selenium`  \n",
    "   \n",
    "2.Clonar el repositorio:   \n",
    "* `git clone https://github.com/Gia37/Baloto.git`"
   ]
  },
  {
   "cell_type": "markdown",
   "metadata": {},
   "source": [
    "# Inicialización"
   ]
  },
  {
   "cell_type": "markdown",
   "metadata": {},
   "source": [
    "Una vez clonado el repositorio desde la consola o terminal, ejecute los siguientes pasos:\n",
    "\n",
    "1.Ingrese al proyecto y luego a la carpeta **Codigo**.\n",
    "* `cd Baloto`\n",
    "* `cd Codigo`\n",
    "\n",
    "2.Ejecute el código **Descarga.py** que genera los archivos **Datos.md** y **Datos.sh**.\n",
    "* `python Descarga.py`\n",
    "\n",
    "## Nota:\n",
    "+ Recuerde que para la correcta ejecucion de **Descarga.py** debe tener Firefox instalado.\n",
    "\n",
    "+ Al ejecutarlo se abrira una ventana en Firefox donde se estaran seleccionando los años desde que esta sorteando el Baloto, es decir desde el 2001 hasta el 2016. Una vez terminado el proceso, cerrar la ventana. \n",
    "\n",
    "3.Luego se generaran los archivos **Datos.md** y **Datos.sh** donde el primero muestra de forma presentable las series con sus respectivas fechas y numeros sorteados y el segundo, solo muestra en 6 columnas los números sorteados para su análisis."
   ]
  },
  {
   "cell_type": "code",
   "execution_count": null,
   "metadata": {
    "collapsed": false
   },
   "outputs": [],
   "source": []
  }
 ],
 "metadata": {
  "anaconda-cloud": {},
  "kernelspec": {
   "display_name": "Python [default]",
   "language": "python",
   "name": "python2"
  },
  "language_info": {
   "codemirror_mode": {
    "name": "ipython",
    "version": 2
   },
   "file_extension": ".py",
   "mimetype": "text/x-python",
   "name": "python",
   "nbconvert_exporter": "python",
   "pygments_lexer": "ipython2",
   "version": "2.7.12"
  }
 },
 "nbformat": 4,
 "nbformat_minor": 1
}
