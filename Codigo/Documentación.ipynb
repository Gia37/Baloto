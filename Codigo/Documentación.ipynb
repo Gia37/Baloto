{
 "cells": [
  {
   "cell_type": "markdown",
   "metadata": {},
   "source": [
    "# Instalación"
   ]
  },
  {
   "cell_type": "markdown",
   "metadata": {},
   "source": [
    "1. Para la correcta ejecución de los archivos de este repositorio debe tener previamente instalados:\n",
    " * [Miniconda](http://conda.pydata.org/miniconda.html)\n",
    " * [Python](https://www.python.org/)\n",
    " * [R](https://www.r-project.org/)\n",
    " \n",
    "2. Luego procede a la instalación, por medio de la consola, de:  \n",
    "    + `conda install jupyter`\n",
    "    + `conda install -c r r-essentials`    \n",
    "    + `conda install -c anaconda beautifulsoup4 requests`  \n",
    "    + `conda install -c conda-forge selenium`\n",
    "    \n",
    "3. Clonar el repositorio:    \n",
    "    + `git clone https://github.com/Gia37/Baloto.git`"
   ]
  },
  {
   "cell_type": "markdown",
   "metadata": {},
   "source": [
    "# Inicialización"
   ]
  },
  {
   "cell_type": "markdown",
   "metadata": {},
   "source": [
    "Una vez clonado el repositorio desde la consola o terminal, ejecute los siguientes pasos:\n",
    "\n",
    "1. Desde la terminal ingrese a la carpeta donde clono el proyecto _Baloto_ y luego a la carpeta **Codigo** ejecutando los siguientes códigos, respectivamente:\n",
    "\n",
    "    + `cd Baloto`\n",
    "    + `cd Codigo`  \n",
    "\n",
    "2. Ejecute el código **Descarga.py** que genera los archivos **Datos.md,**  **Datos.sh**  y **Frecuencia.sh**:\n",
    "\n",
    "    + `python Descarga.py`   \n",
    "    \n",
    "3. Luego se generaran los archivos **Datos.md,** **Datos.sh** y **Frecuencia.sh,** donde el primero muestra de forma presentable las series con sus respectivas fechas y números sorteados, el segundo, solo muestra en 6 columnas los números sorteados para su análisis y el tercero muestra 2 columnas, la primera con el número de la balota (que va desde 1 hasta 45) y la segunda con el número de veces que dicho número ha salido.\n",
    "\n",
    "## Nota:  \n",
    "+ Para la correcta ejecución de **Descarga.py** debe tener Firefox instalado.\n",
    "+ Al ejecutarlo se abrira una ventana en Firefox donde se estaran seleccionando los años desde que se está sorteando el Baloto, es decir desde el 2001 hasta el 2016, y una vez terminado el proceso el usuario debe cerrar la ventana. "
   ]
  },
  {
   "cell_type": "markdown",
   "metadata": {
    "collapsed": false
   },
   "source": [
    "# Consulta"
   ]
  },
  {
   "cell_type": "markdown",
   "metadata": {},
   "source": [
    "Utilizamos el archivo [Consulta.py](https://github.com/Gia37/Baloto/blob/master/Codigo/Consulta.py) sólo para consultas de información básica. Este es un archivo con el cual el usuario puede consultar información acerca de los datos, en este caso, se permiten hacer cuatro tipo de consultas: \n",
    "\n",
    "1. Qué sorteo salió según el número de serie\n",
    "2. Qué sorteos salieron en el año ingresado \n",
    "3. Qué sorteo salió según la fecha\n",
    "4. Cuántas veces ha salido el número del sorteo  \n",
    "\n",
    "Para la ejecución de este archivo se ingresa a la carpeta donde se encuentra _Baloto_ y una vez allí, se abre la carpeta _Codigo_ ingresando en la terminal:\n",
    "\n",
    "* `cd Baloto`  \n",
    "* `cd Codigo`\n",
    "   \n",
    "Y por último ejecutar:  \n",
    "\n",
    "* `python Consulta.py`"
   ]
  },
  {
   "cell_type": "markdown",
   "metadata": {},
   "source": [
    " # Estadistica descriptica básica con R\n",
    " \n",
    "En este avance se calcula, por medio de R, la media, mínimo, máximo y desviación estandar, se seleccionaron el número de repeticiones de todas las balotas de los sorteos que van desde el 2001 hasta el 2016 (año actual), que se encuentran en el archivo `Frecuencia.sh`\n"
   ]
  }
 ],
 "metadata": {
  "anaconda-cloud": {},
  "kernelspec": {
   "display_name": "Python [default]",
   "language": "python",
   "name": "python2"
  },
  "language_info": {
   "codemirror_mode": {
    "name": "ipython",
    "version": 2
   },
   "file_extension": ".py",
   "mimetype": "text/x-python",
   "name": "python",
   "nbconvert_exporter": "python",
   "pygments_lexer": "ipython2",
   "version": "2.7.12"
  }
 },
 "nbformat": 4,
 "nbformat_minor": 1
}
