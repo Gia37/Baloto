{
 "cells": [
  {
   "cell_type": "code",
   "execution_count": 2,
   "metadata": {
    "collapsed": false
   },
   "outputs": [
    {
     "name": "stdout",
     "output_type": "stream",
     "text": [
      "Frecuencia que más se repite:  [300, 298, 293, 292, 289, 289]\n",
      "Balotas que más se repite:  42 - 21 - 2 - 3 - 15 - 24 \n",
      "\n",
      "Frecuencia que menos se repite:  [236, 246, 247, 251, 251, 254]\n",
      "Balotas que menos se repite:  34 - 38 - 12 - 32 - 39 - 25\n"
     ]
    }
   ],
   "source": [
    "m = open('Frecuencia.dat', 'r')\n",
    "lines = m.readlines()\n",
    "Numero, Frecuencia = [], []\n",
    "for i in lines:\n",
    "    Lista = i.split(\"\\t\")\n",
    "    Numero += [Lista[0]]\n",
    "    Lista[1] = Lista[1].split(\"\\n\")\n",
    "    Frecuencia += [Lista[1][0]]\n",
    "m.close()\n",
    "\n",
    "for i in range(len(Frecuencia)):  #convirtiendo los string en integer\n",
    "    Frecuencia[i] = int(Frecuencia[i])\n",
    "\n",
    "fmar = [] #lista que contiene la frecuencia de balotas que más se repiten\n",
    "fmer = [] #lista que contiene la frecuencia de balotas que menos se repiten\n",
    "bmas = [] #lista que contiene las balotas que mas se repiten\n",
    "bmes = [] #lista que contiene las balotas que menos se repiten\n",
    "for i in range(6):\n",
    "    x = max(Frecuencia)\n",
    "    fmar += [x]\n",
    "    bmas += [Numero[Frecuencia.index(x)]]\n",
    "    Numero[Frecuencia.index(x)]=-1\n",
    "    Frecuencia[Frecuencia.index(x)]=-1\n",
    "    \n",
    "print \"Frecuencia que más se repite: \", fmar\n",
    "print \"Balotas que más se repite: \",bmas[0],\"-\",bmas[1],\"-\",bmas[2],\"-\",bmas[3],\"-\",bmas[4],\"-\",bmas[5], \"\\n\"\n",
    "\n",
    "while -1 in Frecuencia:\n",
    "    Frecuencia.remove(-1)\n",
    "    Numero.remove(-1)\n",
    "    \n",
    "for k in range(6):\n",
    "    x = min(Frecuencia)\n",
    "    fmer += [x]\n",
    "    bmes += [Numero[Frecuencia.index(x)]]\n",
    "    Frecuencia[Frecuencia.index(x)]= \"a\"\n",
    "    \n",
    "print \"Frecuencia que menos se repite: \", fmer\n",
    "print \"Balotas que menos se repite: \",bmes[0],\"-\",bmes[1],\"-\",bmes[2],\"-\",bmes[3],\"-\",bmes[4],\"-\",bmes[5]"
   ]
  },
  {
   "cell_type": "code",
   "execution_count": null,
   "metadata": {
    "collapsed": true
   },
   "outputs": [],
   "source": []
  }
 ],
 "metadata": {
  "anaconda-cloud": {},
  "kernelspec": {
   "display_name": "Python [conda root]",
   "language": "python",
   "name": "conda-root-py"
  },
  "language_info": {
   "codemirror_mode": {
    "name": "ipython",
    "version": 2
   },
   "file_extension": ".py",
   "mimetype": "text/x-python",
   "name": "python",
   "nbconvert_exporter": "python",
   "pygments_lexer": "ipython2",
   "version": "2.7.12"
  }
 },
 "nbformat": 4,
 "nbformat_minor": 1
}
