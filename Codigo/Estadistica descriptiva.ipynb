{
 "cells": [
  {
   "cell_type": "markdown",
   "metadata": {},
   "source": [
    " # Estadistica descriptica básica con R\n",
    " \n",
    "Para realizar el calculo de la media, mínimo, máximo y desviación estandar, se seleccionaron todos los datos obtenidos de los sorteos desde el 2001 hasta el 2016."
   ]
  },
  {
   "cell_type": "code",
   "execution_count": 5,
   "metadata": {
    "collapsed": false
   },
   "outputs": [
    {
     "data": {
      "text/html": [
       "'Media: '"
      ],
      "text/latex": [
       "'Media: '"
      ],
      "text/markdown": [
       "'Media: '"
      ],
      "text/plain": [
       "[1] \"Media: \""
      ]
     },
     "metadata": {},
     "output_type": "display_data"
    },
    {
     "data": {
      "text/html": [
       "22.9075163398693"
      ],
      "text/latex": [
       "22.9075163398693"
      ],
      "text/markdown": [
       "22.9075163398693"
      ],
      "text/plain": [
       "[1] 22.90752"
      ]
     },
     "metadata": {},
     "output_type": "display_data"
    },
    {
     "data": {
      "text/html": [
       "'Desviación estandar: '"
      ],
      "text/latex": [
       "'Desviación estandar: '"
      ],
      "text/markdown": [
       "'Desviación estandar: '"
      ],
      "text/plain": [
       "[1] \"Desviación estandar: \""
      ]
     },
     "metadata": {},
     "output_type": "display_data"
    },
    {
     "data": {
      "text/html": [
       "13.0069692535289"
      ],
      "text/latex": [
       "13.0069692535289"
      ],
      "text/markdown": [
       "13.0069692535289"
      ],
      "text/plain": [
       "[1] 13.00697"
      ]
     },
     "metadata": {},
     "output_type": "display_data"
    },
    {
     "data": {
      "text/html": [
       "'Mínimo: '"
      ],
      "text/latex": [
       "'Mínimo: '"
      ],
      "text/markdown": [
       "'Mínimo: '"
      ],
      "text/plain": [
       "[1] \"Mínimo: \""
      ]
     },
     "metadata": {},
     "output_type": "display_data"
    },
    {
     "data": {
      "text/html": [
       "1"
      ],
      "text/latex": [
       "1"
      ],
      "text/markdown": [
       "1"
      ],
      "text/plain": [
       "[1] 1"
      ]
     },
     "metadata": {},
     "output_type": "display_data"
    },
    {
     "data": {
      "text/html": [
       "'Máximo: '"
      ],
      "text/latex": [
       "'Máximo: '"
      ],
      "text/markdown": [
       "'Máximo: '"
      ],
      "text/plain": [
       "[1] \"Máximo: \""
      ]
     },
     "metadata": {},
     "output_type": "display_data"
    },
    {
     "data": {
      "text/html": [
       "45"
      ],
      "text/latex": [
       "45"
      ],
      "text/markdown": [
       "45"
      ],
      "text/plain": [
       "[1] 45"
      ]
     },
     "metadata": {},
     "output_type": "display_data"
    }
   ],
   "source": [
    "tabla = read.table(\"Datos.sh\")\n",
    "Vec = c(tabla$V1,tabla$V2,tabla$V3,tabla$V4,tabla$V5,tabla$V6)\n",
    "Media = \"Media: \"; Media; mean(Vec)\n",
    "Desviación = \"Desviación estandar: \"; Desviación; sd(Vec)\n",
    "Mínimo =\"Mínimo: \"; Mínimo; min(Vec) \n",
    "Máximo = \"Máximo: \"; Máximo; max(Vec)"
   ]
  },
  {
   "cell_type": "code",
   "execution_count": 17,
   "metadata": {
    "collapsed": false
   },
   "outputs": [
    {
     "ename": "ERROR",
     "evalue": "Error in as.table.default(cumsum(fabs)): cannot coerce to a table\n",
     "output_type": "error",
     "traceback": [
      "Error in as.table.default(cumsum(fabs)): cannot coerce to a table\nTraceback:\n",
      "1. as.table(cumsum(fabs))",
      "2. as.table.default(cumsum(fabs))",
      "3. stop(\"cannot coerce to a table\")"
     ]
    }
   ],
   "source": [
    "fabs<-read.table(\"Frecuencia.sh\")\n",
    "n.ind<-45\n",
    "frel<-fabs/n.ind\n",
    "fabsacum<-as.table(cumsum(fabs))\n",
    "fabsacum\n",
    "frelacum<-as.table(cumsum(frel))\n",
    "frelacum\n",
    " barplot(fabs,ylab=\"Frecuencias absolutas\",main=\"Diagrama de barras de\n",
    "Hermanos\")\n",
    "barplot(fabsacum,ylab=\"Frecuencias absolutas acumuladas\",main=\"Diagrama\n",
    "de barras de Hermanos\")\n"
   ]
  },
  {
   "cell_type": "code",
   "execution_count": null,
   "metadata": {
    "collapsed": true
   },
   "outputs": [],
   "source": []
  }
 ],
 "metadata": {
  "anaconda-cloud": {},
  "kernelspec": {
   "display_name": "R",
   "language": "R",
   "name": "ir"
  },
  "language_info": {
   "codemirror_mode": "r",
   "file_extension": ".r",
   "mimetype": "text/x-r-source",
   "name": "R",
   "pygments_lexer": "r",
   "version": "3.3.1"
  }
 },
 "nbformat": 4,
 "nbformat_minor": 1
}
