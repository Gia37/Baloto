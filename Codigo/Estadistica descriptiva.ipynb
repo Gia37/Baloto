{
 "cells": [
  {
   "cell_type": "markdown",
   "metadata": {},
   "source": [
    " # Estadistica descriptica básica con R\n",
    " \n",
    "Para realizar el calculo de la media, mínimo, máximo y desviación estandar, se seleccionaron todos los datos obtenidos de los sorteos desde el 2001 hasta el 2016."
   ]
  },
  {
   "cell_type": "code",
   "execution_count": 1,
   "metadata": {
    "collapsed": false
   },
   "outputs": [
    {
     "data": {
      "text/html": [
       "'Media: '"
      ],
      "text/latex": [
       "'Media: '"
      ],
      "text/markdown": [
       "'Media: '"
      ],
      "text/plain": [
       "[1] \"Media: \""
      ]
     },
     "metadata": {},
     "output_type": "display_data"
    },
    {
     "data": {
      "text/html": [
       "14.4232510288066"
      ],
      "text/latex": [
       "14.4232510288066"
      ],
      "text/markdown": [
       "14.4232510288066"
      ],
      "text/plain": [
       "[1] 14.42325"
      ]
     },
     "metadata": {},
     "output_type": "display_data"
    },
    {
     "data": {
      "text/html": [
       "'Desviación estandar: '"
      ],
      "text/latex": [
       "'Desviación estandar: '"
      ],
      "text/markdown": [
       "'Desviación estandar: '"
      ],
      "text/plain": [
       "[1] \"Desviación estandar: \""
      ]
     },
     "metadata": {},
     "output_type": "display_data"
    },
    {
     "data": {
      "text/html": [
       "15.1292857510373"
      ],
      "text/latex": [
       "15.1292857510373"
      ],
      "text/markdown": [
       "15.1292857510373"
      ],
      "text/plain": [
       "[1] 15.12929"
      ]
     },
     "metadata": {},
     "output_type": "display_data"
    },
    {
     "data": {
      "text/html": [
       "'Mínimo: '"
      ],
      "text/latex": [
       "'Mínimo: '"
      ],
      "text/markdown": [
       "'Mínimo: '"
      ],
      "text/plain": [
       "[1] \"Mínimo: \""
      ]
     },
     "metadata": {},
     "output_type": "display_data"
    },
    {
     "data": {
      "text/html": [
       "0"
      ],
      "text/latex": [
       "0"
      ],
      "text/markdown": [
       "0"
      ],
      "text/plain": [
       "[1] 0"
      ]
     },
     "metadata": {},
     "output_type": "display_data"
    },
    {
     "data": {
      "text/html": [
       "'Máximo: '"
      ],
      "text/latex": [
       "'Máximo: '"
      ],
      "text/markdown": [
       "'Máximo: '"
      ],
      "text/plain": [
       "[1] \"Máximo: \""
      ]
     },
     "metadata": {},
     "output_type": "display_data"
    },
    {
     "data": {
      "text/html": [
       "45"
      ],
      "text/latex": [
       "45"
      ],
      "text/markdown": [
       "45"
      ],
      "text/plain": [
       "[1] 45"
      ]
     },
     "metadata": {},
     "output_type": "display_data"
    }
   ],
   "source": [
    "tabla = read.table(\"Datos.sh\")\n",
    "Vec = c(tabla$V1,tabla$V2,tabla$V3,tabla$V4,tabla$V5,tabla$V6)\n",
    "Media = \"Media: \"; Media; mean(Vec)\n",
    "Desviación = \"Desviación estandar: \"; Desviación; sd(Vec)\n",
    "Mínimo =\"Mínimo: \"; Mínimo; min(Vec) \n",
    "Máximo = \"Máximo: \"; Máximo; max(Vec)"
   ]
  }
 ],
 "metadata": {
  "anaconda-cloud": {},
  "kernelspec": {
   "display_name": "R",
   "language": "R",
   "name": "ir"
  },
  "language_info": {
   "codemirror_mode": "r",
   "file_extension": ".r",
   "mimetype": "text/x-r-source",
   "name": "R",
   "pygments_lexer": "r",
   "version": "3.3.1"
  }
 },
 "nbformat": 4,
 "nbformat_minor": 1
}
