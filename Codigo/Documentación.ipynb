{
 "cells": [
  {
   "cell_type": "markdown",
   "metadata": {},
   "source": [
    "# Instalación"
   ]
  },
  {
   "cell_type": "markdown",
   "metadata": {},
   "source": [
    "1. Para la correcta ejecución de los archivos de este repositorio debe tener previamente instalados:\n",
    " * [Miniconda](http://conda.pydata.org/miniconda.html)\n",
    " * [Python](https://www.python.org/)\n",
    " * [R](https://www.r-project.org/)\n",
    " \n",
    "2. Luego procede a la instalación, por medio de la consola, de:  \n",
    "    + `conda install jupyter`\n",
    "    + `conda install -c r r-essentials`    \n",
    "    + `conda install -c anaconda beautifulsoup4 requests`  \n",
    "    + `conda install -c conda-forge selenium`\n",
    "    \n",
    "3. Clonar el repositorio:    \n",
    "    + `git clone https://github.com/Gia37/Baloto.git`"
   ]
  },
  {
   "cell_type": "markdown",
   "metadata": {},
   "source": [
    "# Inicialización"
   ]
  },
  {
   "cell_type": "markdown",
   "metadata": {},
   "source": [
    "Una vez clonado el repositorio desde la consola o terminal, ejecute los siguientes pasos:\n",
    "\n",
    "1. Desde la terminal ingrese a la carpeta donde clono el proyecto _Baloto_ y luego a la carpeta **Codigo** ejecutando los siguientes códigos, respectivamente:\n",
    "\n",
    "    + `cd Baloto`\n",
    "    + `cd Codigo`  \n",
    "\n",
    "2. Ejecute el código **Descarga.py** que genera los archivos **Datos.md,**  **Datos.sh**  y **Frecuencia.sh**:\n",
    "\n",
    "    + `python Descarga.py`   \n",
    "    \n",
    "3. Luego se generaran los archivos **Datos.md,** **Datos.sh** y **Frecuencia.sh,** donde el primero muestra de forma presentable las series con sus respectivas fechas y números sorteados, el segundo, solo muestra en 6 columnas los números sorteados para su análisis y el tercero muestra 2 columnas, la primera con el número de la balota (que va desde 1 hasta 45) y la segunda con el número de veces que dicho número ha salido.\n",
    "\n",
    "## Nota:  \n",
    "+ Para la correcta ejecución de **Descarga.py** debe tener Firefox instalado.\n",
    "+ Al ejecutarlo se abrira una ventana en Firefox donde se estaran seleccionando los años desde que se está sorteando el Baloto, es decir desde el 2001 hasta el 2016, y una vez terminado el proceso el usuario debe cerrar la ventana. "
   ]
  },
  {
   "cell_type": "markdown",
   "metadata": {
    "collapsed": false
   },
   "source": [
    "# Consulta"
   ]
  },
  {
   "cell_type": "markdown",
   "metadata": {},
   "source": [
    "Utilizamos el archivo [Consulta.py](https://github.com/Gia37/Baloto/blob/master/Codigo/Consulta.py) sólo para consultas de información básica. Este es un archivo con el cual el usuario puede consultar información acerca de los datos, en este caso, se permiten hacer cuatro tipo de consultas: \n",
    "\n",
    "1. Qué sorteo salió según el número de serie\n",
    "2. Qué sorteos salieron en el año ingresado \n",
    "3. Qué sorteo salió según la fecha\n",
    "4. Cuántas veces ha salido el número del sorteo  \n",
    "\n",
    "Para la ejecución de este archivo se ingresa a la carpeta donde se encuentra _Baloto_ y una vez allí, se abre la carpeta _Codigo_ ingresando en la terminal:\n",
    "\n",
    "* `cd Baloto`  \n",
    "* `cd Codigo`\n",
    "   \n",
    "Y por último ejecutar:  \n",
    "\n",
    "* `python Consulta.py`"
   ]
  },
  {
   "cell_type": "code",
   "execution_count": 8,
   "metadata": {
    "collapsed": false
   },
   "outputs": [
    {
     "name": "stdout",
     "output_type": "stream",
     "text": [
      "Ingrese 1, 2, 3, o 4 segun el dato que desea consultar\n",
      "1. Sorteo que salio en la serie \n",
      "2. Sorteos que han salido en el a?o \n",
      "3. Sorteos que han salido en la fecha \n",
      "4. Cuantas veces ha salido el numero  \n",
      "2\n",
      "Ingrese el a?o AAAA (2001 hasta el 2016)2015\n"
     ]
    },
    {
     "data": {
      "text/markdown": [
       "|Baloto|Revancha|\n",
       "|:---:|:---:|\n",
       "| 03 - 21 - 26 - 31 - 39 - 42 | 05 - 12 - 23 - 26 - 43 - 45 | \n",
       "| 01 - 08 - 10 - 19 - 22 - 27 | 05 - 11 - 17 - 18 - 35 - 40 | \n",
       "| 02 - 04 - 16 - 17 - 30 - 34 | 04 - 13 - 14 - 17 - 19 - 29 | \n",
       "| 01 - 07 - 15 - 16 - 40 - 42 | 10 - 11 - 15 - 23 - 29 - 45 | \n",
       "| 09 - 10 - 22 - 24 - 35 - 40 | 05 - 08 - 10 - 14 - 16 - 20 | \n",
       "| 06 - 10 - 16 - 22 - 25 - 32 | 22 - 24 - 25 - 27 - 37 - 41 | \n",
       "| 07 - 11 - 13 - 37 - 39 - 41 | 01 - 06 - 12 - 13 - 16 - 45 | \n",
       "| 05 - 14 - 19 - 31 - 33 - 37 | 04 - 17 - 20 - 21 - 26 - 35 | \n",
       "| 13 - 20 - 21 - 25 - 35 - 41 | 20 - 25 - 34 - 35 - 37 - 38 | \n",
       "| 07 - 17 - 26 - 27 - 41 - 43 | 09 - 10 - 11 - 14 - 28 - 37 | \n",
       "| 21 - 23 - 25 - 32 - 37 - 44 | 02 - 18 - 19 - 25 - 28 - 35 | \n",
       "| 04 - 10 - 18 - 35 - 42 - 45 | 13 - 14 - 18 - 29 - 39 - 44 | \n",
       "| 05 - 06 - 10 - 22 - 24 - 42 | 15 - 23 - 29 - 30 - 41 - 42 | \n",
       "| 03 - 07 - 15 - 16 - 33 - 42 | 08 - 15 - 25 - 28 - 36 - 42 | \n",
       "| 06 - 09 - 10 - 24 - 37 - 40 | 09 - 10 - 13 - 16 - 21 - 26 | \n",
       "| 20 - 31 - 40 - 41 - 44 - 45 | 15 - 18 - 23 - 27 - 31 - 33 | \n",
       "| 07 - 18 - 24 - 36 - 37 - 42 | 13 - 28 - 34 - 35 - 36 - 40 | \n",
       "| 04 - 05 - 13 - 18 - 31 - 38 | 02 - 09 - 10 - 14 - 23 - 36 | \n",
       "| 11 - 21 - 25 - 35 - 42 - 44 | 01 - 22 - 32 - 33 - 42 - 45 | \n",
       "| 03 - 05 - 17 - 20 - 21 - 35 | 05 - 07 - 13 - 35 - 38 - 42 | \n",
       "| 06 - 07 - 20 - 30 - 33 - 44 | 05 - 08 - 15 - 31 - 39 - 41 | \n",
       "| 02 - 16 - 24 - 28 - 37 - 40 | 10 - 13 - 19 - 27 - 44 - 45 | \n",
       "| 05 - 13 - 17 - 25 - 35 - 40 | 11 - 13 - 33 - 40 - 41 - 43 | \n",
       "| 01 - 11 - 19 - 24 - 31 - 38 | 06 - 09 - 14 - 30 - 34 - 44 | \n",
       "| 05 - 07 - 14 - 35 - 38 - 41 | 04 - 19 - 20 - 23 - 38 - 40 | \n",
       "| 03 - 09 - 10 - 21 - 31 - 43 | 20 - 22 - 28 - 32 - 34 - 35 | \n",
       "| 02 - 07 - 09 - 17 - 40 - 42 | 03 - 05 - 13 - 18 - 24 - 27 | \n",
       "| 05 - 07 - 09 - 10 - 26 - 37 | 07 - 11 - 40 - 42 - 44 - 45 | \n",
       "| 01 - 05 - 10 - 12 - 21 - 41 | 08 - 16 - 20 - 30 - 40 - 43 | \n",
       "| 08 - 17 - 24 - 37 - 39 - 42 | 02 - 07 - 14 - 15 - 18 - 35 | \n",
       "| 07 - 21 - 30 - 37 - 44 - 45 | 02 - 09 - 28 - 37 - 38 - 40 | \n",
       "| 07 - 12 - 17 - 24 - 31 - 39 | 10 - 15 - 20 - 21 - 43 - 45 | \n",
       "| 06 - 09 - 10 - 23 - 24 - 41 | 04 - 13 - 14 - 20 - 26 - 32 | \n",
       "| 03 - 13 - 27 - 40 - 43 - 44 | 02 - 03 - 25 - 35 - 38 - 41 | \n",
       "| 22 - 33 - 34 - 42 - 44 - 45 | 05 - 11 - 15 - 32 - 42 - 45 | \n",
       "| 02 - 03 - 11 - 31 - 33 - 39 | 03 - 05 - 08 - 10 - 17 - 36 | \n",
       "| 07 - 16 - 19 - 24 - 34 - 41 | 18 - 20 - 25 - 26 - 29 - 37 | \n",
       "| 07 - 19 - 25 - 28 - 29 - 43 | 08 - 18 - 22 - 35 - 41 - 42 | \n",
       "| 01 - 03 - 07 - 10 - 14 - 31 | 18 - 25 - 27 - 28 - 40 - 45 | \n",
       "| 20 - 22 - 23 - 29 - 32 - 45 | 14 - 26 - 27 - 31 - 40 - 42 | \n",
       "| 06 - 10 - 31 - 38 - 43 - 45 | 12 - 20 - 25 - 33 - 38 - 42 | \n",
       "| 09 - 15 - 19 - 25 - 36 - 44 | 03 - 07 - 26 - 34 - 35 - 40 | \n",
       "| 07 - 11 - 13 - 26 - 30 - 43 | 08 - 11 - 23 - 27 - 31 - 42 | \n",
       "| 05 - 10 - 11 - 12 - 13 - 30 | 03 - 09 - 20 - 23 - 26 - 31 | \n",
       "| 06 - 19 - 20 - 21 - 26 - 29 | 02 - 07 - 22 - 31 - 32 - 41 | \n",
       "| 01 - 03 - 07 - 25 - 28 - 40 | 16 - 17 - 26 - 29 - 42 - 45 | \n",
       "| 01 - 15 - 26 - 28 - 42 - 45 | 02 - 19 - 33 - 36 - 43 - 44 | \n",
       "| 09 - 18 - 24 - 25 - 34 - 41 | 04 - 14 - 29 - 39 - 41 - 45 | \n",
       "| 01 - 04 - 20 - 25 - 36 - 43 | 05 - 06 - 13 - 14 - 32 - 34 | \n",
       "| 02 - 06 - 18 - 23 - 31 - 35 | 13 - 25 - 29 - 30 - 40 - 44 | \n",
       "| 01 - 08 - 21 - 30 - 34 - 40 | 04 - 09 - 18 - 25 - 28 - 36 | \n",
       "| 05 - 15 - 30 - 31 - 35 - 37 | 03 - 21 - 27 - 34 - 38 - 42 | \n",
       "| 14 - 20 - 24 - 28 - 30 - 35 | 13 - 17 - 18 - 19 - 28 - 29 | \n",
       "| 15 - 19 - 22 - 29 - 37 - 45 | 04 - 07 - 23 - 34 - 37 - 44 | \n",
       "| 09 - 12 - 16 - 22 - 29 - 37 | 04 - 11 - 12 - 19 - 38 - 41 | \n",
       "| 07 - 15 - 17 - 19 - 24 - 26 | 10 - 20 - 27 - 35 - 36 - 45 | \n",
       "| 14 - 21 - 36 - 39 - 43 - 45 | 03 - 11 - 16 - 19 - 25 - 35 | \n",
       "| 04 - 11 - 14 - 24 - 32 - 36 | 01 - 12 - 15 - 17 - 30 - 34 | \n",
       "| 05 - 06 - 11 - 19 - 24 - 26 | 09 - 10 - 12 - 23 - 29 - 41 | \n",
       "| 05 - 11 - 18 - 31 - 42 - 43 | 02 - 04 - 08 - 12 - 33 - 37 | \n",
       "| 06 - 16 - 19 - 23 - 29 - 43 | 02 - 04 - 14 - 34 - 41 - 42 | \n",
       "| 12 - 18 - 19 - 31 - 42 - 44 | 08 - 23 - 35 - 38 - 39 - 45 | \n",
       "| 01 - 02 - 06 - 15 - 29 - 38 | 08 - 15 - 16 - 27 - 31 - 33 | \n",
       "| 02 - 05 - 06 - 27 - 33 - 40 | 07 - 15 - 16 - 17 - 18 - 35 | \n",
       "| 02 - 07 - 16 - 17 - 29 - 41 | 03 - 05 - 06 - 20 - 26 - 36 | \n",
       "| 01 - 12 - 20 - 22 - 24 - 43 | 02 - 04 - 17 - 20 - 22 - 26 | \n",
       "| 05 - 08 - 11 - 20 - 23 - 43 | 04 - 05 - 06 - 28 - 37 - 38 | \n",
       "| 13 - 14 - 15 - 24 - 28 - 33 | 08 - 13 - 16 - 18 - 19 - 30 | \n",
       "| 04 - 08 - 19 - 32 - 34 - 38 | 05 - 07 - 08 - 18 - 29 - 38 | \n",
       "| 16 - 25 - 27 - 28 - 30 - 45 | 16 - 17 - 18 - 24 - 29 - 41 | \n",
       "| 01 - 17 - 21 - 33 - 37 - 38 | 05 - 16 - 18 - 29 - 38 - 40 | \n",
       "| 03 - 07 - 12 - 13 - 20 - 25 | 07 - 13 - 14 - 16 - 30 - 31 | \n",
       "| 07 - 18 - 20 - 23 - 32 - 38 | 11 - 21 - 25 - 29 - 36 - 41 | \n",
       "| 03 - 04 - 12 - 15 - 20 - 43 | 05 - 08 - 09 - 20 - 26 - 37 | \n",
       "| 05 - 11 - 18 - 27 - 31 - 35 | 03 - 06 - 20 - 27 - 42 - 43 | \n",
       "| 02 - 12 - 22 - 24 - 25 - 32 | 13 - 17 - 18 - 20 - 29 - 34 | \n",
       "| 02 - 04 - 06 - 17 - 24 - 35 | 04 - 07 - 26 - 37 - 40 - 41 | \n",
       "| 10 - 11 - 28 - 32 - 38 - 41 | 07 - 10 - 21 - 26 - 30 - 37 | \n",
       "| 01 - 06 - 07 - 09 - 12 - 42 | 01 - 06 - 11 - 19 - 25 - 31 | \n",
       "| 14 - 17 - 20 - 37 - 40 - 42 | 16 - 28 - 29 - 34 - 39 - 43 | \n",
       "| 04 - 19 - 20 - 34 - 35 - 40 | 01 - 05 - 10 - 23 - 27 - 29 | \n",
       "| 07 - 18 - 29 - 34 - 37 - 44 | 05 - 09 - 16 - 18 - 29 - 35 | \n",
       "| 13 - 18 - 21 - 29 - 31 - 33 | 06 - 08 - 10 - 14 - 16 - 41 | \n",
       "| 05 - 06 - 33 - 40 - 42 - 44 | 07 - 19 - 30 - 31 - 42 - 44 | \n",
       "| 07 - 10 - 22 - 32 - 42 - 45 | 02 - 03 - 07 - 11 - 23 - 44 | \n",
       "| 08 - 11 - 13 - 15 - 23 - 26 | 21 - 24 - 25 - 29 - 30 - 31 | \n",
       "| 01 - 15 - 24 - 36 - 39 - 41 | 07 - 11 - 30 - 33 - 37 - 41 | \n",
       "| 02 - 05 - 13 - 24 - 28 - 35 | 03 - 18 - 19 - 24 - 28 - 39 | \n",
       "| 01 - 13 - 21 - 30 - 39 - 45 | 03 - 09 - 11 - 14 - 35 - 37 | \n",
       "| 01 - 06 - 09 - 12 - 13 - 33 | 05 - 12 - 14 - 23 - 27 - 44 | \n",
       "| 04 - 07 - 12 - 18 - 26 - 30 | 12 - 14 - 21 - 25 - 28 - 37 | \n",
       "| 03 - 05 - 06 - 07 - 20 - 30 | 01 - 02 - 12 - 15 - 38 - 43 | \n",
       "| 05 - 06 - 21 - 23 - 24 - 36 | 01 - 03 - 12 - 29 - 30 - 36 | \n",
       "| 03 - 09 - 15 - 19 - 31 - 43 | 07 - 08 - 14 - 31 - 37 - 38 | \n",
       "| 11 - 13 - 17 - 29 - 39 - 43 | 23 - 24 - 30 - 32 - 36 - 44 | \n",
       "| 09 - 18 - 21 - 26 - 27 - 37 | 10 - 14 - 20 - 25 - 30 - 37 | \n",
       "| 09 - 16 - 17 - 21 - 23 - 25 | 02 - 06 - 15 - 38 - 42 - 43 | \n",
       "| 01 - 15 - 18 - 29 - 33 - 42 | 03 - 16 - 17 - 21 - 22 - 26 | \n",
       "| 01 - 03 - 04 - 18 - 28 - 34 | 06 - 16 - 20 - 26 - 27 - 36 | \n",
       "| 08 - 13 - 17 - 27 - 39 - 44 | 05 - 09 - 15 - 17 - 31 - 39 | \n",
       "| 01 - 04 - 18 - 28 - 37 - 39 | 02 - 05 - 21 - 26 - 39 - 40 | \n",
       "| 14 - 18 - 23 - 34 - 41 - 45 | 04 - 06 - 15 - 20 - 22 - 30 | \n",
       "| 04 - 13 - 18 - 27 - 28 - 42 | 10 - 13 - 18 - 20 - 32 - 38 | \n",
       "| 02 - 04 - 23 - 31 - 36 - 39 | 01 - 07 - 13 - 14 - 19 - 29 | \n"
      ],
      "text/plain": [
       "<IPython.core.display.Markdown object>"
      ]
     },
     "metadata": {},
     "output_type": "display_data"
    }
   ],
   "source": [
    "import Consulta as C\n",
    "from IPython.display import display, Markdown\n",
    "display(Markdown(C.F_Mark()))"
   ]
  },
  {
   "cell_type": "markdown",
   "metadata": {},
   "source": [
    " # Estadistica descriptica básica con R\n",
    " \n",
    "En este avance se calcula, por medio de R, la media, mínimo, máximo y desviación estandar, se seleccionaron el número de repeticiones de todas las balotas de los sorteos que van desde el 2001 hasta el 2016 (año actual), que se encuentran en el archivo `Frecuencia.sh`\n"
   ]
  }
 ],
 "metadata": {
  "anaconda-cloud": {},
  "kernelspec": {
   "display_name": "Python [default]",
   "language": "python",
   "name": "python2"
  },
  "language_info": {
   "codemirror_mode": {
    "name": "ipython",
    "version": 2
   },
   "file_extension": ".py",
   "mimetype": "text/x-python",
   "name": "python",
   "nbconvert_exporter": "python",
   "pygments_lexer": "ipython2",
   "version": "2.7.12"
  }
 },
 "nbformat": 4,
 "nbformat_minor": 1
}
